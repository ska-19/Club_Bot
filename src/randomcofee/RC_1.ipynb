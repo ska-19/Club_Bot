{
 "cells": [
  {
   "cell_type": "markdown",
   "source": [
    "# Первый блокнот"
   ],
   "metadata": {
    "collapsed": false
   },
   "id": "d6fc51cebaef3bcf"
  },
  {
   "cell_type": "code",
   "execution_count": 1,
   "outputs": [
    {
     "name": "stdout",
     "output_type": "stream",
     "text": [
      "1\n"
     ]
    }
   ],
   "source": [
    "print(1)"
   ],
   "metadata": {
    "collapsed": false,
    "ExecuteTime": {
     "end_time": "2024-05-19T07:28:36.192453Z",
     "start_time": "2024-05-19T07:28:36.171797Z"
    }
   },
   "id": "d7d05fabadcfbd72"
  },
  {
   "cell_type": "code",
   "execution_count": 57,
   "outputs": [],
   "source": [
    "import pandas as pd\n",
    "import seaborn as sns\n",
    "import numpy as np\n",
    "from math import isclose\n",
    "import matplotlib.pyplot as plt\n",
    "import re\n"
   ],
   "metadata": {
    "collapsed": false,
    "ExecuteTime": {
     "end_time": "2024-05-19T08:00:47.620462Z",
     "start_time": "2024-05-19T08:00:47.535317Z"
    }
   },
   "id": "3e23b382bf97ab80"
  },
  {
   "cell_type": "code",
   "outputs": [
    {
     "data": {
      "text/plain": "    choosing_readiness_new_meetings  choosing_meeting_format  \\\nid                                                             \n2                                 0                        0   \n3                                 1                        0   \n4                                 0                        0   \n5                                 0                        0   \n6                                 1                        0   \n\n    choosing_personality_type                          choosing_hobbies  \\\nid                                                                        \n2                           0  , ведение соцсетей и блогов, путешествия   \n3                           3                                   , книги   \n4                           3                    , техника и автомобили   \n5                           0               , ведение соцсетей и блогов   \n6                           3                       , музыка, видеоигры   \n\n                            tell_what_do_you_do  \\\nid                                                \n2            покшула п лулатутатат алалатетатпь   \n3                                      йййййййй   \n4                        цццццццццццццццццццццц   \n5   мрукмтукру к8урк укмт ук8у мтцу мрукзщмо ум   \n6                              продукт аналитик   \n\n                                    tell_expectations  choosing_expectations  \\\nid                                                                             \n2   владалалалвтту душуовтататат шаовоаокоаоа шаоа...                      0   \n3                                           ййййййййй                      3   \n4                            цццццццццццццццццццццццц                      2   \n5                  мулкомр укгмр укр зкумр гуркм у км                      0   \n6             делал интересные и долгосрочные проекты                      1   \n\n    choosing_zodiac_signs  choosing_gender  \\\nid                                           \n2                       0                0   \n3                       4                2   \n4                       4                1   \n5                       0                0   \n6                       4                0   \n\n                                       tell_hobbies  \nid                                                   \n2                  алклал лалулуиатату далутутададв  \n3                                          йййййййй  \n4                          уццццццццццццццццццццццц  \n5   алтуйшкмумтумк кшмтук м1куругмр укмрукмо умтцут  \n6         люблю качаться в зале, изучать психологию  ",
      "text/html": "<div>\n<style scoped>\n    .dataframe tbody tr th:only-of-type {\n        vertical-align: middle;\n    }\n\n    .dataframe tbody tr th {\n        vertical-align: top;\n    }\n\n    .dataframe thead th {\n        text-align: right;\n    }\n</style>\n<table border=\"1\" class=\"dataframe\">\n  <thead>\n    <tr style=\"text-align: right;\">\n      <th></th>\n      <th>choosing_readiness_new_meetings</th>\n      <th>choosing_meeting_format</th>\n      <th>choosing_personality_type</th>\n      <th>choosing_hobbies</th>\n      <th>tell_what_do_you_do</th>\n      <th>tell_expectations</th>\n      <th>choosing_expectations</th>\n      <th>choosing_zodiac_signs</th>\n      <th>choosing_gender</th>\n      <th>tell_hobbies</th>\n    </tr>\n    <tr>\n      <th>id</th>\n      <th></th>\n      <th></th>\n      <th></th>\n      <th></th>\n      <th></th>\n      <th></th>\n      <th></th>\n      <th></th>\n      <th></th>\n      <th></th>\n    </tr>\n  </thead>\n  <tbody>\n    <tr>\n      <th>2</th>\n      <td>0</td>\n      <td>0</td>\n      <td>0</td>\n      <td>, ведение соцсетей и блогов, путешествия</td>\n      <td>покшула п лулатутатат алалатетатпь</td>\n      <td>владалалалвтту душуовтататат шаовоаокоаоа шаоа...</td>\n      <td>0</td>\n      <td>0</td>\n      <td>0</td>\n      <td>алклал лалулуиатату далутутададв</td>\n    </tr>\n    <tr>\n      <th>3</th>\n      <td>1</td>\n      <td>0</td>\n      <td>3</td>\n      <td>, книги</td>\n      <td>йййййййй</td>\n      <td>ййййййййй</td>\n      <td>3</td>\n      <td>4</td>\n      <td>2</td>\n      <td>йййййййй</td>\n    </tr>\n    <tr>\n      <th>4</th>\n      <td>0</td>\n      <td>0</td>\n      <td>3</td>\n      <td>, техника и автомобили</td>\n      <td>цццццццццццццццццццццц</td>\n      <td>цццццццццццццццццццццццц</td>\n      <td>2</td>\n      <td>4</td>\n      <td>1</td>\n      <td>уццццццццццццццццццццццц</td>\n    </tr>\n    <tr>\n      <th>5</th>\n      <td>0</td>\n      <td>0</td>\n      <td>0</td>\n      <td>, ведение соцсетей и блогов</td>\n      <td>мрукмтукру к8урк укмт ук8у мтцу мрукзщмо ум</td>\n      <td>мулкомр укгмр укр зкумр гуркм у км</td>\n      <td>0</td>\n      <td>0</td>\n      <td>0</td>\n      <td>алтуйшкмумтумк кшмтук м1куругмр укмрукмо умтцут</td>\n    </tr>\n    <tr>\n      <th>6</th>\n      <td>1</td>\n      <td>0</td>\n      <td>3</td>\n      <td>, музыка, видеоигры</td>\n      <td>продукт аналитик</td>\n      <td>делал интересные и долгосрочные проекты</td>\n      <td>1</td>\n      <td>4</td>\n      <td>0</td>\n      <td>люблю качаться в зале, изучать психологию</td>\n    </tr>\n  </tbody>\n</table>\n</div>"
     },
     "execution_count": 42,
     "metadata": {},
     "output_type": "execute_result"
    }
   ],
   "source": [
    "df = pd.read_csv('data (63).csv')\n",
    "df.drop(['_sa_instance_state', 'tg_id', 'choosing_stay_in_touch','questionnaire_counter','choosing_knew_interest_clubs'], axis=1, inplace=True)\n",
    "df.set_index('id', inplace=True)\n",
    "\n",
    "df.head()"
   ],
   "metadata": {
    "collapsed": false,
    "ExecuteTime": {
     "end_time": "2024-05-19T07:56:50.066952Z",
     "start_time": "2024-05-19T07:56:50.004276Z"
    }
   },
   "id": "e98c20f0b1965623",
   "execution_count": 42
  },
  {
   "cell_type": "code",
   "outputs": [
    {
     "data": {
      "text/plain": "(205, 10)"
     },
     "execution_count": 43,
     "metadata": {},
     "output_type": "execute_result"
    }
   ],
   "source": [
    "df.shape"
   ],
   "metadata": {
    "collapsed": false,
    "ExecuteTime": {
     "end_time": "2024-05-19T07:56:50.344508Z",
     "start_time": "2024-05-19T07:56:50.310185Z"
    }
   },
   "id": "7370cf4e69b04d1a",
   "execution_count": 43
  },
  {
   "cell_type": "code",
   "outputs": [
    {
     "data": {
      "text/plain": "Index(['choosing_readiness_new_meetings', 'choosing_meeting_format',\n       'choosing_personality_type', 'choosing_hobbies', 'tell_what_do_you_do',\n       'tell_expectations', 'choosing_expectations', 'choosing_zodiac_signs',\n       'choosing_gender', 'tell_hobbies'],\n      dtype='object')"
     },
     "execution_count": 44,
     "metadata": {},
     "output_type": "execute_result"
    }
   ],
   "source": [
    "df.columns"
   ],
   "metadata": {
    "collapsed": false,
    "ExecuteTime": {
     "end_time": "2024-05-19T07:56:50.940879Z",
     "start_time": "2024-05-19T07:56:50.621661Z"
    }
   },
   "id": "ed2a46fec9503a1f",
   "execution_count": 44
  },
  {
   "cell_type": "code",
   "outputs": [],
   "source": [
    "text_choosing_columns = ['choosing_readiness_new_meetings', 'choosing_meeting_format', 'choosing_personality_type', 'choosing_expectations', 'choosing_zodiac_signs', 'choosing_gender']\n",
    "text_multi_choosing_columns = ['choosing_hobbies']\n",
    "text_tell_columns = ['tell_what_do_you_do', 'tell_expectations', 'tell_hobbies']"
   ],
   "metadata": {
    "collapsed": false,
    "ExecuteTime": {
     "end_time": "2024-05-19T07:56:51.216633Z",
     "start_time": "2024-05-19T07:56:50.992027Z"
    }
   },
   "id": "928d89c967210c1f",
   "execution_count": 45
  },
  {
   "cell_type": "markdown",
   "source": [
    "### text_choosing_columns\n",
    "```python\n",
    "available_readiness_new_meetings = [\"Да!\", \"Зависит от настроения\", \"Не люблю знакомиться с новыми людьми\"]\n",
    "available_expectations = [\"100% фана\", \"75% фана, немного серьезности\", \"50% фана, 50% серьезности\",\n",
    "                          \"25% фана, 75% серьезности\", \"0% фана, только деловые беседы\"]\n",
    "available_meeting_format = [\"Готов вживую\", \"Только онлайн\"]\n",
    "available_zodiac_signs = [\"Овен\", \"Телец\", \"Близнецы\", \"Рак\", \"Лев\", \"Дева\", \"Весы\", \"Скорпион\", \"Стрелец\",\n",
    "                          \"Козерог\", \"Водолей\", \"Рыбы\"]\n",
    "available_personality_type = [\"Стратег\", \"Учёный\", \"Командир\", \"Полемист\",\n",
    "                              \"Активист\", \"Посредник\", \"Тренер\", \"Борец\",\n",
    "                              \"Администратор\", \"Защитник\", \"Менеджер\", \"Консул\",\n",
    "                              \"Виртуоз\", \"Артист\", \"Делец\", \"Развлекатель\"]\n",
    "available_gender = [\"Мужской\", \"Женский\", \"Пропустить\"]\n",
    "```\n",
    "### text_multi_choosing_columns\n",
    "```python\n",
    "available_hobbies = [\"Ведение соцсетей и блогов\", \"Путешествия\", \"Музыка\", \"Книги\", \"Кино и сериалы\", \"Видеоигры\",\n",
    "                     \"Игра на музыкальных инструментах\", \"Кулинария\", \"Искусство и рукоделие\", \"Коллекционирование\",\n",
    "                     \"Техника и автомобили\"]\n",
    "```"
   ],
   "metadata": {
    "collapsed": false
   },
   "id": "51581192259d93bd"
  },
  {
   "cell_type": "code",
   "outputs": [],
   "source": [
    "decisive_columns = ['choosing_readiness_new_meeting','choosing_meeting_format', 'choosing_gender']\n",
    "categorical_columns = ['choosing_personality_type',  'choosing_zodiac_signs']\n",
    "num_columns = ['choosing_expectations']"
   ],
   "metadata": {
    "collapsed": false,
    "ExecuteTime": {
     "end_time": "2024-05-19T07:56:52.245155Z",
     "start_time": "2024-05-19T07:56:52.218674Z"
    }
   },
   "id": "230d3fb99b1946d4",
   "execution_count": 46
  },
  {
   "cell_type": "code",
   "outputs": [],
   "source": [
    "df['choosing_expectations'] = df['choosing_expectations'].map({0: 1.0, 1: 0.75, 2: 0.5, 3: 0.25, 4:0})"
   ],
   "metadata": {
    "collapsed": false,
    "ExecuteTime": {
     "end_time": "2024-05-19T07:56:53.064098Z",
     "start_time": "2024-05-19T07:56:53.038348Z"
    }
   },
   "id": "d09d10ff8d7bc560",
   "execution_count": 47
  },
  {
   "cell_type": "code",
   "outputs": [
    {
     "name": "stdout",
     "output_type": "stream",
     "text": [
      "<class 'pandas.core.frame.DataFrame'>\n",
      "Index: 205 entries, 2 to 206\n",
      "Data columns (total 10 columns):\n",
      " #   Column                           Non-Null Count  Dtype  \n",
      "---  ------                           --------------  -----  \n",
      " 0   choosing_readiness_new_meetings  205 non-null    int64  \n",
      " 1   choosing_meeting_format          205 non-null    int64  \n",
      " 2   choosing_personality_type        205 non-null    int64  \n",
      " 3   choosing_hobbies                 187 non-null    object \n",
      " 4   tell_what_do_you_do              137 non-null    object \n",
      " 5   tell_expectations                137 non-null    object \n",
      " 6   choosing_expectations            187 non-null    float64\n",
      " 7   choosing_zodiac_signs            205 non-null    int64  \n",
      " 8   choosing_gender                  205 non-null    int64  \n",
      " 9   tell_hobbies                     137 non-null    object \n",
      "dtypes: float64(1), int64(5), object(4)\n",
      "memory usage: 17.6+ KB\n"
     ]
    }
   ],
   "source": [
    "df.info()"
   ],
   "metadata": {
    "collapsed": false,
    "ExecuteTime": {
     "end_time": "2024-05-19T07:57:22.981165Z",
     "start_time": "2024-05-19T07:57:22.961662Z"
    }
   },
   "id": "b99ca0d1e2fbf79a",
   "execution_count": 49
  },
  {
   "cell_type": "code",
   "outputs": [
    {
     "data": {
      "text/plain": "       choosing_readiness_new_meetings  choosing_meeting_format  \\\ncount                       205.000000               205.000000   \nmean                          0.512195                -0.019512   \nstd                           0.744982                 0.395576   \nmin                          -1.000000                -1.000000   \n25%                           0.000000                 0.000000   \n50%                           1.000000                 0.000000   \n75%                           1.000000                 0.000000   \nmax                           2.000000                 1.000000   \n\n       choosing_personality_type  choosing_expectations  \\\ncount                 205.000000             187.000000   \nmean                    4.512195               0.631016   \nstd                     4.590709               0.223488   \nmin                    -1.000000               0.000000   \n25%                     0.000000               0.500000   \n50%                     3.000000               0.750000   \n75%                     7.000000               0.750000   \nmax                    15.000000               1.000000   \n\n       choosing_zodiac_signs  choosing_gender  \ncount             205.000000       205.000000  \nmean                4.453659         0.370732  \nstd                 3.738256         0.663563  \nmin                -1.000000        -1.000000  \n25%                 1.000000         0.000000  \n50%                 4.000000         0.000000  \n75%                 8.000000         1.000000  \nmax                11.000000         2.000000  ",
      "text/html": "<div>\n<style scoped>\n    .dataframe tbody tr th:only-of-type {\n        vertical-align: middle;\n    }\n\n    .dataframe tbody tr th {\n        vertical-align: top;\n    }\n\n    .dataframe thead th {\n        text-align: right;\n    }\n</style>\n<table border=\"1\" class=\"dataframe\">\n  <thead>\n    <tr style=\"text-align: right;\">\n      <th></th>\n      <th>choosing_readiness_new_meetings</th>\n      <th>choosing_meeting_format</th>\n      <th>choosing_personality_type</th>\n      <th>choosing_expectations</th>\n      <th>choosing_zodiac_signs</th>\n      <th>choosing_gender</th>\n    </tr>\n  </thead>\n  <tbody>\n    <tr>\n      <th>count</th>\n      <td>205.000000</td>\n      <td>205.000000</td>\n      <td>205.000000</td>\n      <td>187.000000</td>\n      <td>205.000000</td>\n      <td>205.000000</td>\n    </tr>\n    <tr>\n      <th>mean</th>\n      <td>0.512195</td>\n      <td>-0.019512</td>\n      <td>4.512195</td>\n      <td>0.631016</td>\n      <td>4.453659</td>\n      <td>0.370732</td>\n    </tr>\n    <tr>\n      <th>std</th>\n      <td>0.744982</td>\n      <td>0.395576</td>\n      <td>4.590709</td>\n      <td>0.223488</td>\n      <td>3.738256</td>\n      <td>0.663563</td>\n    </tr>\n    <tr>\n      <th>min</th>\n      <td>-1.000000</td>\n      <td>-1.000000</td>\n      <td>-1.000000</td>\n      <td>0.000000</td>\n      <td>-1.000000</td>\n      <td>-1.000000</td>\n    </tr>\n    <tr>\n      <th>25%</th>\n      <td>0.000000</td>\n      <td>0.000000</td>\n      <td>0.000000</td>\n      <td>0.500000</td>\n      <td>1.000000</td>\n      <td>0.000000</td>\n    </tr>\n    <tr>\n      <th>50%</th>\n      <td>1.000000</td>\n      <td>0.000000</td>\n      <td>3.000000</td>\n      <td>0.750000</td>\n      <td>4.000000</td>\n      <td>0.000000</td>\n    </tr>\n    <tr>\n      <th>75%</th>\n      <td>1.000000</td>\n      <td>0.000000</td>\n      <td>7.000000</td>\n      <td>0.750000</td>\n      <td>8.000000</td>\n      <td>1.000000</td>\n    </tr>\n    <tr>\n      <th>max</th>\n      <td>2.000000</td>\n      <td>1.000000</td>\n      <td>15.000000</td>\n      <td>1.000000</td>\n      <td>11.000000</td>\n      <td>2.000000</td>\n    </tr>\n  </tbody>\n</table>\n</div>"
     },
     "execution_count": 50,
     "metadata": {},
     "output_type": "execute_result"
    }
   ],
   "source": [
    "df.describe()"
   ],
   "metadata": {
    "collapsed": false,
    "ExecuteTime": {
     "end_time": "2024-05-19T07:57:31.661959Z",
     "start_time": "2024-05-19T07:57:31.567635Z"
    }
   },
   "id": "2929bed608db2ce4",
   "execution_count": 50
  },
  {
   "cell_type": "code",
   "outputs": [
    {
     "data": {
      "text/plain": "choosing_readiness_new_meetings     0\nchoosing_meeting_format             0\nchoosing_personality_type           0\nchoosing_hobbies                   18\ntell_what_do_you_do                68\ntell_expectations                  68\nchoosing_expectations              18\nchoosing_zodiac_signs               0\nchoosing_gender                     0\ntell_hobbies                       68\ndtype: int64"
     },
     "execution_count": 51,
     "metadata": {},
     "output_type": "execute_result"
    }
   ],
   "source": [
    "df.isna().sum()"
   ],
   "metadata": {
    "collapsed": false,
    "ExecuteTime": {
     "end_time": "2024-05-19T07:57:44.676155Z",
     "start_time": "2024-05-19T07:57:44.657313Z"
    }
   },
   "id": "a6a2f8d4d85320e1",
   "execution_count": 51
  },
  {
   "cell_type": "code",
   "outputs": [
    {
     "data": {
      "text/plain": "(187, 10)"
     },
     "execution_count": 52,
     "metadata": {},
     "output_type": "execute_result"
    }
   ],
   "source": [
    "df = df.dropna(subset=text_choosing_columns, how='any')\n",
    "df = df.dropna(subset=text_multi_choosing_columns, how='any')\n",
    "for col in text_choosing_columns:\n",
    "    df = df[df[col] != -1]\n",
    "df.shape"
   ],
   "metadata": {
    "collapsed": false,
    "ExecuteTime": {
     "end_time": "2024-05-19T07:57:45.153580Z",
     "start_time": "2024-05-19T07:57:45.073623Z"
    }
   },
   "id": "fa7af1213d951f89",
   "execution_count": 52
  },
  {
   "cell_type": "code",
   "outputs": [
    {
     "data": {
      "text/plain": "choosing_readiness_new_meetings     0\nchoosing_meeting_format             0\nchoosing_personality_type           0\nchoosing_hobbies                    0\ntell_what_do_you_do                50\ntell_expectations                  50\nchoosing_expectations               0\nchoosing_zodiac_signs               0\nchoosing_gender                     0\ntell_hobbies                       50\ndtype: int64"
     },
     "execution_count": 55,
     "metadata": {},
     "output_type": "execute_result"
    }
   ],
   "source": [
    "df.isna().sum()"
   ],
   "metadata": {
    "collapsed": false,
    "ExecuteTime": {
     "end_time": "2024-05-19T07:58:21.074356Z",
     "start_time": "2024-05-19T07:58:21.010130Z"
    }
   },
   "id": "20cc15ebfefc3402",
   "execution_count": 55
  },
  {
   "cell_type": "code",
   "outputs": [
    {
     "data": {
      "text/plain": "choosing_readiness_new_meetings\n1    97\n0    77\n2    13\nName: count, dtype: int64"
     },
     "execution_count": 34,
     "metadata": {},
     "output_type": "execute_result"
    }
   ],
   "source": [
    "df['choosing_readiness_new_meetings'].value_counts()"
   ],
   "metadata": {
    "collapsed": false,
    "ExecuteTime": {
     "end_time": "2024-05-19T07:43:18.859150Z",
     "start_time": "2024-05-19T07:43:18.816982Z"
    }
   },
   "id": "7b7e0f73c8787596",
   "execution_count": 34
  },
  {
   "cell_type": "code",
   "outputs": [
    {
     "data": {
      "text/plain": "choosing_meeting_format\n0    173\n1     14\nName: count, dtype: int64"
     },
     "execution_count": 35,
     "metadata": {},
     "output_type": "execute_result"
    }
   ],
   "source": [
    "df['choosing_meeting_format'].value_counts()"
   ],
   "metadata": {
    "collapsed": false,
    "ExecuteTime": {
     "end_time": "2024-05-19T07:43:23.157369Z",
     "start_time": "2024-05-19T07:43:23.118534Z"
    }
   },
   "id": "f014c161d4c610c1",
   "execution_count": 35
  },
  {
   "cell_type": "code",
   "outputs": [
    {
     "data": {
      "text/plain": "choosing_personality_type\n0     36\n1     20\n7     18\n3     17\n6     16\n2     15\n5     12\n8      9\n10     9\n14     7\n4      6\n12     6\n15     5\n13     5\n11     5\n9      1\nName: count, dtype: int64"
     },
     "execution_count": 36,
     "metadata": {},
     "output_type": "execute_result"
    }
   ],
   "source": [
    "df['choosing_personality_type'].value_counts()"
   ],
   "metadata": {
    "collapsed": false,
    "ExecuteTime": {
     "end_time": "2024-05-19T07:43:24.116870Z",
     "start_time": "2024-05-19T07:43:24.060935Z"
    }
   },
   "id": "f0f26b07bd1b8ae1",
   "execution_count": 36
  },
  {
   "cell_type": "code",
   "outputs": [
    {
     "data": {
      "text/plain": "choosing_expectations\n0.75    72\n0.50    68\n1.00    25\n0.25    20\n0.00     2\nName: count, dtype: int64"
     },
     "execution_count": 48,
     "metadata": {},
     "output_type": "execute_result"
    }
   ],
   "source": [
    "df['choosing_expectations'].value_counts()"
   ],
   "metadata": {
    "collapsed": false,
    "ExecuteTime": {
     "end_time": "2024-05-19T07:56:57.994228Z",
     "start_time": "2024-05-19T07:56:57.963166Z"
    }
   },
   "id": "da32b624c9683a35",
   "execution_count": 48
  },
  {
   "cell_type": "code",
   "outputs": [
    {
     "data": {
      "text/plain": "choosing_zodiac_signs\n0     23\n2     22\n8     21\n4     19\n3     15\n7     15\n1     14\n11    13\n10    12\n5     12\n6     11\n9     10\nName: count, dtype: int64"
     },
     "execution_count": 38,
     "metadata": {},
     "output_type": "execute_result"
    }
   ],
   "source": [
    "df['choosing_zodiac_signs'].value_counts()"
   ],
   "metadata": {
    "collapsed": false,
    "ExecuteTime": {
     "end_time": "2024-05-19T07:43:26.414057Z",
     "start_time": "2024-05-19T07:43:26.383934Z"
    }
   },
   "id": "84794d563aa3a6ff",
   "execution_count": 38
  },
  {
   "cell_type": "code",
   "outputs": [],
   "source": [
    "df.to_csv('data.csv')"
   ],
   "metadata": {
    "collapsed": false,
    "ExecuteTime": {
     "end_time": "2024-05-19T08:04:31.236976Z",
     "start_time": "2024-05-19T08:04:31.045600Z"
    }
   },
   "id": "413a3da0f0ee599c",
   "execution_count": 62
  },
  {
   "cell_type": "code",
   "outputs": [
    {
     "data": {
      "text/plain": "    choosing_readiness_new_meetings  choosing_meeting_format  \\\nid                                                             \n2                                 0                        0   \n3                                 1                        0   \n4                                 0                        0   \n5                                 0                        0   \n6                                 1                        0   \n\n    choosing_personality_type                          choosing_hobbies  \\\nid                                                                        \n2                           0  , ведение соцсетей и блогов, путешествия   \n3                           3                                   , книги   \n4                           3                    , техника и автомобили   \n5                           0               , ведение соцсетей и блогов   \n6                           3                       , музыка, видеоигры   \n\n                            tell_what_do_you_do  \\\nid                                                \n2            покшула п лулатутатат алалатетатпь   \n3                                      йййййййй   \n4                        цццццццццццццццццццццц   \n5   мрукмтукру к8урк укмт ук8у мтцу мрукзщмо ум   \n6                              продукт аналитик   \n\n                                    tell_expectations  choosing_expectations  \\\nid                                                                             \n2   владалалалвтту душуовтататат шаовоаокоаоа шаоа...                   1.00   \n3                                           ййййййййй                   0.25   \n4                            цццццццццццццццццццццццц                   0.50   \n5                  мулкомр укгмр укр зкумр гуркм у км                   1.00   \n6             делал интересные и долгосрочные проекты                   0.75   \n\n    choosing_zodiac_signs  choosing_gender  \\\nid                                           \n2                       0                0   \n3                       4                2   \n4                       4                1   \n5                       0                0   \n6                       4                0   \n\n                                       tell_hobbies  \nid                                                   \n2                  алклал лалулуиатату далутутададв  \n3                                          йййййййй  \n4                          уццццццццццццццццццццццц  \n5   алтуйшкмумтумк кшмтук м1куругмр укмрукмо умтцут  \n6         люблю качаться в зале, изучать психологию  ",
      "text/html": "<div>\n<style scoped>\n    .dataframe tbody tr th:only-of-type {\n        vertical-align: middle;\n    }\n\n    .dataframe tbody tr th {\n        vertical-align: top;\n    }\n\n    .dataframe thead th {\n        text-align: right;\n    }\n</style>\n<table border=\"1\" class=\"dataframe\">\n  <thead>\n    <tr style=\"text-align: right;\">\n      <th></th>\n      <th>choosing_readiness_new_meetings</th>\n      <th>choosing_meeting_format</th>\n      <th>choosing_personality_type</th>\n      <th>choosing_hobbies</th>\n      <th>tell_what_do_you_do</th>\n      <th>tell_expectations</th>\n      <th>choosing_expectations</th>\n      <th>choosing_zodiac_signs</th>\n      <th>choosing_gender</th>\n      <th>tell_hobbies</th>\n    </tr>\n    <tr>\n      <th>id</th>\n      <th></th>\n      <th></th>\n      <th></th>\n      <th></th>\n      <th></th>\n      <th></th>\n      <th></th>\n      <th></th>\n      <th></th>\n      <th></th>\n    </tr>\n  </thead>\n  <tbody>\n    <tr>\n      <th>2</th>\n      <td>0</td>\n      <td>0</td>\n      <td>0</td>\n      <td>, ведение соцсетей и блогов, путешествия</td>\n      <td>покшула п лулатутатат алалатетатпь</td>\n      <td>владалалалвтту душуовтататат шаовоаокоаоа шаоа...</td>\n      <td>1.00</td>\n      <td>0</td>\n      <td>0</td>\n      <td>алклал лалулуиатату далутутададв</td>\n    </tr>\n    <tr>\n      <th>3</th>\n      <td>1</td>\n      <td>0</td>\n      <td>3</td>\n      <td>, книги</td>\n      <td>йййййййй</td>\n      <td>ййййййййй</td>\n      <td>0.25</td>\n      <td>4</td>\n      <td>2</td>\n      <td>йййййййй</td>\n    </tr>\n    <tr>\n      <th>4</th>\n      <td>0</td>\n      <td>0</td>\n      <td>3</td>\n      <td>, техника и автомобили</td>\n      <td>цццццццццццццццццццццц</td>\n      <td>цццццццццццццццццццццццц</td>\n      <td>0.50</td>\n      <td>4</td>\n      <td>1</td>\n      <td>уццццццццццццццццццццццц</td>\n    </tr>\n    <tr>\n      <th>5</th>\n      <td>0</td>\n      <td>0</td>\n      <td>0</td>\n      <td>, ведение соцсетей и блогов</td>\n      <td>мрукмтукру к8урк укмт ук8у мтцу мрукзщмо ум</td>\n      <td>мулкомр укгмр укр зкумр гуркм у км</td>\n      <td>1.00</td>\n      <td>0</td>\n      <td>0</td>\n      <td>алтуйшкмумтумк кшмтук м1куругмр укмрукмо умтцут</td>\n    </tr>\n    <tr>\n      <th>6</th>\n      <td>1</td>\n      <td>0</td>\n      <td>3</td>\n      <td>, музыка, видеоигры</td>\n      <td>продукт аналитик</td>\n      <td>делал интересные и долгосрочные проекты</td>\n      <td>0.75</td>\n      <td>4</td>\n      <td>0</td>\n      <td>люблю качаться в зале, изучать психологию</td>\n    </tr>\n  </tbody>\n</table>\n</div>"
     },
     "execution_count": 56,
     "metadata": {},
     "output_type": "execute_result"
    }
   ],
   "source": [
    "df.head()"
   ],
   "metadata": {
    "collapsed": false,
    "ExecuteTime": {
     "end_time": "2024-05-19T07:58:43.569175Z",
     "start_time": "2024-05-19T07:58:43.555122Z"
    }
   },
   "id": "60b1a7b6d9edb43",
   "execution_count": 56
  },
  {
   "cell_type": "code",
   "outputs": [],
   "source": [],
   "metadata": {
    "collapsed": false
   },
   "id": "ff25d45689ffdd68"
  },
  {
   "cell_type": "code",
   "outputs": [],
   "source": [
    "def is_strange(text):\n",
    "    return bool(re.fullmatch(r'(.)\\1{3,}', text))\n",
    "\n",
    "\n",
    "df = df[~df['tell_hobbies'].fillna('').apply(is_strange)]\n",
    "df.shape\n",
    "df.head(10)"
   ],
   "metadata": {
    "collapsed": false
   },
   "id": "bf13dcdb7f822ea6"
  }
 ],
 "metadata": {
  "kernelspec": {
   "display_name": "Python 3",
   "language": "python",
   "name": "python3"
  },
  "language_info": {
   "codemirror_mode": {
    "name": "ipython",
    "version": 2
   },
   "file_extension": ".py",
   "mimetype": "text/x-python",
   "name": "python",
   "nbconvert_exporter": "python",
   "pygments_lexer": "ipython2",
   "version": "2.7.6"
  }
 },
 "nbformat": 4,
 "nbformat_minor": 5
}

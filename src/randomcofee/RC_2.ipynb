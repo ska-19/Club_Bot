{
 "cells": [
  {
   "cell_type": "markdown",
   "source": [
    "# Первый блокнот"
   ],
   "metadata": {
    "collapsed": false
   },
   "id": "d6fc51cebaef3bcf"
  },
  {
   "cell_type": "code",
   "execution_count": 63,
   "outputs": [
    {
     "name": "stdout",
     "output_type": "stream",
     "text": [
      "1\n"
     ]
    }
   ],
   "source": [
    "print(1)"
   ],
   "metadata": {
    "collapsed": false,
    "ExecuteTime": {
     "end_time": "2024-05-19T08:53:36.739693Z",
     "start_time": "2024-05-19T08:53:36.630611Z"
    }
   },
   "id": "d7d05fabadcfbd72"
  },
  {
   "cell_type": "code",
   "execution_count": 64,
   "outputs": [],
   "source": [
    "import pandas as pd\n",
    "import seaborn as sns\n",
    "import numpy as np\n",
    "from math import isclose\n",
    "import matplotlib.pyplot as plt\n",
    "from sklearn.feature_extraction.text import TfidfVectorizer\n",
    "from scipy.sparse import hstack\n",
    "import pymorphy2\n",
    "import re"
   ],
   "metadata": {
    "collapsed": false,
    "ExecuteTime": {
     "end_time": "2024-05-19T08:53:36.831178Z",
     "start_time": "2024-05-19T08:53:36.749922Z"
    }
   },
   "id": "3e23b382bf97ab80"
  },
  {
   "cell_type": "code",
   "outputs": [
    {
     "data": {
      "text/plain": "   id  choosing_readiness_new_meetings  choosing_meeting_format  \\\n0   2                                0                        0   \n1   4                                0                        0   \n2   5                                0                        0   \n3   6                                1                        0   \n4   8                                1                        0   \n\n   choosing_personality_type                            choosing_hobbies  \\\n0                          0    , ведение соцсетей и блогов, путешествия   \n1                          3                      , техника и автомобили   \n2                          0                 , ведение соцсетей и блогов   \n3                          3                         , музыка, видеоигры   \n4                          3  , музыка, игра на музыкальных инструментах   \n\n                           tell_what_do_you_do  \\\n0           покшула п лулатутатат алалатетатпь   \n1                       цццццццццццццццццццццц   \n2  мрукмтукру к8урк укмт ук8у мтцу мрукзщмо ум   \n3                             продукт аналитик   \n4                                          NaN   \n\n                                   tell_expectations  choosing_expectations  \\\n0  владалалалвтту душуовтататат шаовоаокоаоа шаоа...                   1.00   \n1                           цццццццццццццццццццццццц                   0.50   \n2                 мулкомр укгмр укр зкумр гуркм у км                   1.00   \n3            делал интересные и долгосрочные проекты                   0.75   \n4                                                NaN                   0.75   \n\n   choosing_zodiac_signs  choosing_gender  \\\n0                      0                0   \n1                      4                1   \n2                      0                0   \n3                      4                0   \n4                      0                0   \n\n                                      tell_hobbies  \n0                 алклал лалулуиатату далутутададв  \n1                         уццццццццццццццццццццццц  \n2  алтуйшкмумтумк кшмтук м1куругмр укмрукмо умтцут  \n3        люблю качаться в зале, изучать психологию  \n4                                              NaN  ",
      "text/html": "<div>\n<style scoped>\n    .dataframe tbody tr th:only-of-type {\n        vertical-align: middle;\n    }\n\n    .dataframe tbody tr th {\n        vertical-align: top;\n    }\n\n    .dataframe thead th {\n        text-align: right;\n    }\n</style>\n<table border=\"1\" class=\"dataframe\">\n  <thead>\n    <tr style=\"text-align: right;\">\n      <th></th>\n      <th>id</th>\n      <th>choosing_readiness_new_meetings</th>\n      <th>choosing_meeting_format</th>\n      <th>choosing_personality_type</th>\n      <th>choosing_hobbies</th>\n      <th>tell_what_do_you_do</th>\n      <th>tell_expectations</th>\n      <th>choosing_expectations</th>\n      <th>choosing_zodiac_signs</th>\n      <th>choosing_gender</th>\n      <th>tell_hobbies</th>\n    </tr>\n  </thead>\n  <tbody>\n    <tr>\n      <th>0</th>\n      <td>2</td>\n      <td>0</td>\n      <td>0</td>\n      <td>0</td>\n      <td>, ведение соцсетей и блогов, путешествия</td>\n      <td>покшула п лулатутатат алалатетатпь</td>\n      <td>владалалалвтту душуовтататат шаовоаокоаоа шаоа...</td>\n      <td>1.00</td>\n      <td>0</td>\n      <td>0</td>\n      <td>алклал лалулуиатату далутутададв</td>\n    </tr>\n    <tr>\n      <th>1</th>\n      <td>4</td>\n      <td>0</td>\n      <td>0</td>\n      <td>3</td>\n      <td>, техника и автомобили</td>\n      <td>цццццццццццццццццццццц</td>\n      <td>цццццццццццццццццццццццц</td>\n      <td>0.50</td>\n      <td>4</td>\n      <td>1</td>\n      <td>уццццццццццццццццццццццц</td>\n    </tr>\n    <tr>\n      <th>2</th>\n      <td>5</td>\n      <td>0</td>\n      <td>0</td>\n      <td>0</td>\n      <td>, ведение соцсетей и блогов</td>\n      <td>мрукмтукру к8урк укмт ук8у мтцу мрукзщмо ум</td>\n      <td>мулкомр укгмр укр зкумр гуркм у км</td>\n      <td>1.00</td>\n      <td>0</td>\n      <td>0</td>\n      <td>алтуйшкмумтумк кшмтук м1куругмр укмрукмо умтцут</td>\n    </tr>\n    <tr>\n      <th>3</th>\n      <td>6</td>\n      <td>1</td>\n      <td>0</td>\n      <td>3</td>\n      <td>, музыка, видеоигры</td>\n      <td>продукт аналитик</td>\n      <td>делал интересные и долгосрочные проекты</td>\n      <td>0.75</td>\n      <td>4</td>\n      <td>0</td>\n      <td>люблю качаться в зале, изучать психологию</td>\n    </tr>\n    <tr>\n      <th>4</th>\n      <td>8</td>\n      <td>1</td>\n      <td>0</td>\n      <td>3</td>\n      <td>, музыка, игра на музыкальных инструментах</td>\n      <td>NaN</td>\n      <td>NaN</td>\n      <td>0.75</td>\n      <td>0</td>\n      <td>0</td>\n      <td>NaN</td>\n    </tr>\n  </tbody>\n</table>\n</div>"
     },
     "execution_count": 65,
     "metadata": {},
     "output_type": "execute_result"
    }
   ],
   "source": [
    "df = pd.read_csv('data.csv')\n",
    "df.head()"
   ],
   "metadata": {
    "collapsed": false,
    "ExecuteTime": {
     "end_time": "2024-05-19T08:53:36.890654Z",
     "start_time": "2024-05-19T08:53:36.782954Z"
    }
   },
   "id": "e98c20f0b1965623",
   "execution_count": 65
  },
  {
   "cell_type": "code",
   "outputs": [
    {
     "data": {
      "text/plain": "(185, 11)"
     },
     "execution_count": 66,
     "metadata": {},
     "output_type": "execute_result"
    }
   ],
   "source": [
    "df.shape"
   ],
   "metadata": {
    "collapsed": false,
    "ExecuteTime": {
     "end_time": "2024-05-19T08:53:36.977368Z",
     "start_time": "2024-05-19T08:53:36.883051Z"
    }
   },
   "id": "7370cf4e69b04d1a",
   "execution_count": 66
  },
  {
   "cell_type": "code",
   "outputs": [
    {
     "data": {
      "text/plain": "Index(['id', 'choosing_readiness_new_meetings', 'choosing_meeting_format',\n       'choosing_personality_type', 'choosing_hobbies', 'tell_what_do_you_do',\n       'tell_expectations', 'choosing_expectations', 'choosing_zodiac_signs',\n       'choosing_gender', 'tell_hobbies'],\n      dtype='object')"
     },
     "execution_count": 67,
     "metadata": {},
     "output_type": "execute_result"
    }
   ],
   "source": [
    "df.columns"
   ],
   "metadata": {
    "collapsed": false,
    "ExecuteTime": {
     "end_time": "2024-05-19T08:53:37.029340Z",
     "start_time": "2024-05-19T08:53:36.945912Z"
    }
   },
   "id": "ed2a46fec9503a1f",
   "execution_count": 67
  },
  {
   "cell_type": "code",
   "outputs": [],
   "source": [
    "text_choosing_columns = ['choosing_readiness_new_meetings', 'choosing_meeting_format', 'choosing_personality_type', 'choosing_expectations', 'choosing_zodiac_signs', 'choosing_gender']\n",
    "text_multi_choosing_columns = ['choosing_hobbies']\n",
    "text_tell_columns = ['tell_what_do_you_do', 'tell_expectations', 'tell_hobbies']"
   ],
   "metadata": {
    "collapsed": false,
    "ExecuteTime": {
     "end_time": "2024-05-19T08:53:37.167784Z",
     "start_time": "2024-05-19T08:53:37.007303Z"
    }
   },
   "id": "928d89c967210c1f",
   "execution_count": 68
  },
  {
   "cell_type": "markdown",
   "source": [
    "### text_choosing_columns\n",
    "```python\n",
    "available_readiness_new_meetings = [\"Да!\", \"Зависит от настроения\", \"Не люблю знакомиться с новыми людьми\"]\n",
    "available_expectations = [\"100% фана\", \"75% фана, немного серьезности\", \"50% фана, 50% серьезности\",\n",
    "                          \"25% фана, 75% серьезности\", \"0% фана, только деловые беседы\"]\n",
    "available_meeting_format = [\"Готов вживую\", \"Только онлайн\"]\n",
    "available_zodiac_signs = [\"Овен\", \"Телец\", \"Близнецы\", \"Рак\", \"Лев\", \"Дева\", \"Весы\", \"Скорпион\", \"Стрелец\",\n",
    "                          \"Козерог\", \"Водолей\", \"Рыбы\"]\n",
    "available_personality_type = [\"Стратег\", \"Учёный\", \"Командир\", \"Полемист\",\n",
    "                              \"Активист\", \"Посредник\", \"Тренер\", \"Борец\",\n",
    "                              \"Администратор\", \"Защитник\", \"Менеджер\", \"Консул\",\n",
    "                              \"Виртуоз\", \"Артист\", \"Делец\", \"Развлекатель\"]\n",
    "available_gender = [\"Мужской\", \"Женский\", \"Пропустить\"]\n",
    "```\n",
    "### text_multi_choosing_columns\n",
    "```python\n",
    "available_hobbies = [\"Ведение соцсетей и блогов\", \"Путешествия\", \"Музыка\", \"Книги\", \"Кино и сериалы\", \"Видеоигры\",\n",
    "                     \"Игра на музыкальных инструментах\", \"Кулинария\", \"Искусство и рукоделие\", \"Коллекционирование\",\n",
    "                     \"Техника и автомобили\"]\n",
    "```"
   ],
   "metadata": {
    "collapsed": false
   },
   "id": "51581192259d93bd"
  },
  {
   "cell_type": "code",
   "outputs": [],
   "source": [
    "decisive_columns = ['choosing_readiness_new_meeting','choosing_meeting_format', 'choosing_gender']\n",
    "categorical_columns = ['choosing_personality_type',  'choosing_zodiac_signs']\n",
    "num_columns = ['choosing_expectations']"
   ],
   "metadata": {
    "collapsed": false,
    "ExecuteTime": {
     "end_time": "2024-05-19T08:53:37.288152Z",
     "start_time": "2024-05-19T08:53:37.153734Z"
    }
   },
   "id": "230d3fb99b1946d4",
   "execution_count": 69
  },
  {
   "cell_type": "code",
   "outputs": [
    {
     "data": {
      "text/plain": "id                                  0\nchoosing_readiness_new_meetings     0\nchoosing_meeting_format             0\nchoosing_personality_type           0\nchoosing_hobbies                    0\ntell_what_do_you_do                50\ntell_expectations                  50\nchoosing_expectations               0\nchoosing_zodiac_signs               0\nchoosing_gender                     0\ntell_hobbies                       50\ndtype: int64"
     },
     "execution_count": 71,
     "metadata": {},
     "output_type": "execute_result"
    }
   ],
   "source": [
    "df.isna().sum()"
   ],
   "metadata": {
    "collapsed": false,
    "ExecuteTime": {
     "end_time": "2024-05-19T08:53:37.502825Z",
     "start_time": "2024-05-19T08:53:37.350775Z"
    }
   },
   "id": "a6a2f8d4d85320e1",
   "execution_count": 71
  },
  {
   "cell_type": "code",
   "outputs": [
    {
     "data": {
      "text/plain": "(185, 11)"
     },
     "execution_count": 72,
     "metadata": {},
     "output_type": "execute_result"
    }
   ],
   "source": [
    "morph = pymorphy2.MorphAnalyzer()\n",
    "\n",
    "def is_strange(text):\n",
    "    if pd.isna(text) or not text.strip():\n",
    "        return True\n",
    "    if bool(re.search(r'(.)\\1{3,}', text)):\n",
    "        return True\n",
    "    \n",
    "    words = text.lower().split()\n",
    "    analyzed_words = [morph.parse(word)[0] for word in words]\n",
    "\n",
    "    non_existent_words = sum(1 for word in analyzed_words if 'UNKN' in word.tag)\n",
    "    words_with_digits = sum(1 for word in words if any(char.isdigit() for char in word))\n",
    "    return non_existent_words >= len(words) / 2 or words_with_digits > 0\n",
    "\n",
    "for col in text_tell_columns:\n",
    "    df[col] = df[col].apply(lambda x: pd.NA if is_strange(x) else x)\n",
    "\n",
    "is_na_in_tell_columns = df[text_tell_columns].isna().any(axis=1)\n",
    "if is_na_in_tell_columns.any():\n",
    "    df.loc[is_na_in_tell_columns, text_tell_columns] = pd.NA\n",
    "df.shape"
   ],
   "metadata": {
    "collapsed": false,
    "ExecuteTime": {
     "end_time": "2024-05-19T08:53:44.727895Z",
     "start_time": "2024-05-19T08:53:37.484603Z"
    }
   },
   "id": "a2764d661aec8a9f",
   "execution_count": 72
  },
  {
   "cell_type": "code",
   "outputs": [
    {
     "data": {
      "text/plain": "   id  choosing_readiness_new_meetings  choosing_meeting_format  \\\n0   2                                0                        0   \n1   4                                0                        0   \n2   5                                0                        0   \n3   6                                1                        0   \n4   8                                1                        0   \n5   7                                1                        0   \n6  18                                1                        0   \n7   9                                0                        0   \n8  12                                2                        0   \n9  11                                1                        0   \n\n   choosing_personality_type  \\\n0                          0   \n1                          3   \n2                          0   \n3                          3   \n4                          3   \n5                          0   \n6                          2   \n7                          1   \n8                          1   \n9                          8   \n\n                                    choosing_hobbies  \\\n0           , ведение соцсетей и блогов, путешествия   \n1                             , техника и автомобили   \n2                        , ведение соцсетей и блогов   \n3                                , музыка, видеоигры   \n4         , музыка, игра на музыкальных инструментах   \n5                 , видеоигры, кино и сериалы, книги   \n6  , музыка, игра на музыкальных инструментах, ви...   \n7  , путешествия, книги, игра на музыкальных инст...   \n8  , игра на музыкальных инструментах, техника и ...   \n9  , музыка, игра на музыкальных инструментах, кн...   \n\n                                 tell_what_do_you_do  \\\n0                 покшула п лулатутатат алалатетатпь   \n1                                               <NA>   \n2                                               <NA>   \n3                                   продукт аналитик   \n4                                               <NA>   \n5                             data scientist в сбере   \n6                            студент питерской вышки   \n7                               data science в банке   \n8                                               <NA>   \n9  ml-стажер в небольшой компании, занимаюсь эксп...   \n\n                                   tell_expectations  choosing_expectations  \\\n0  владалалалвтту душуовтататат шаовоаокоаоа шаоа...                   1.00   \n1                                               <NA>                   0.50   \n2                                               <NA>                   1.00   \n3            делал интересные и долгосрочные проекты                   0.75   \n4                                               <NA>                   0.75   \n5                            не знаю не знаю не знаю                   0.50   \n6                    не состоял, ничего не ожидаю :р                   0.75   \n7  с людьми по интересам общаться, что-то новое у...                   0.50   \n8                                               <NA>                   0.50   \n9  побаловаться поприкалываться пообщаться с людь...                   0.50   \n\n   choosing_zodiac_signs  choosing_gender  \\\n0                      0                0   \n1                      4                1   \n2                      0                0   \n3                      4                0   \n4                      0                0   \n5                      4                0   \n6                      0                0   \n7                      3                1   \n8                      7                0   \n9                     10                1   \n\n                                        tell_hobbies  \n0                   алклал лалулуиатату далутутададв  \n1                                               <NA>  \n2                                               <NA>  \n3          люблю качаться в зале, изучать психологию  \n4                                               <NA>  \n5  из видеоигр люблю сюжетные рпг и различные сим...  \n6  я вообще ничего не делаю. занимаю ничегонедела...  \n7  люблю ходить по музеям и изучать искусство. лю...  \n8                                               <NA>  \n9                         описываю намного подробней  ",
      "text/html": "<div>\n<style scoped>\n    .dataframe tbody tr th:only-of-type {\n        vertical-align: middle;\n    }\n\n    .dataframe tbody tr th {\n        vertical-align: top;\n    }\n\n    .dataframe thead th {\n        text-align: right;\n    }\n</style>\n<table border=\"1\" class=\"dataframe\">\n  <thead>\n    <tr style=\"text-align: right;\">\n      <th></th>\n      <th>id</th>\n      <th>choosing_readiness_new_meetings</th>\n      <th>choosing_meeting_format</th>\n      <th>choosing_personality_type</th>\n      <th>choosing_hobbies</th>\n      <th>tell_what_do_you_do</th>\n      <th>tell_expectations</th>\n      <th>choosing_expectations</th>\n      <th>choosing_zodiac_signs</th>\n      <th>choosing_gender</th>\n      <th>tell_hobbies</th>\n    </tr>\n  </thead>\n  <tbody>\n    <tr>\n      <th>0</th>\n      <td>2</td>\n      <td>0</td>\n      <td>0</td>\n      <td>0</td>\n      <td>, ведение соцсетей и блогов, путешествия</td>\n      <td>покшула п лулатутатат алалатетатпь</td>\n      <td>владалалалвтту душуовтататат шаовоаокоаоа шаоа...</td>\n      <td>1.00</td>\n      <td>0</td>\n      <td>0</td>\n      <td>алклал лалулуиатату далутутададв</td>\n    </tr>\n    <tr>\n      <th>1</th>\n      <td>4</td>\n      <td>0</td>\n      <td>0</td>\n      <td>3</td>\n      <td>, техника и автомобили</td>\n      <td>&lt;NA&gt;</td>\n      <td>&lt;NA&gt;</td>\n      <td>0.50</td>\n      <td>4</td>\n      <td>1</td>\n      <td>&lt;NA&gt;</td>\n    </tr>\n    <tr>\n      <th>2</th>\n      <td>5</td>\n      <td>0</td>\n      <td>0</td>\n      <td>0</td>\n      <td>, ведение соцсетей и блогов</td>\n      <td>&lt;NA&gt;</td>\n      <td>&lt;NA&gt;</td>\n      <td>1.00</td>\n      <td>0</td>\n      <td>0</td>\n      <td>&lt;NA&gt;</td>\n    </tr>\n    <tr>\n      <th>3</th>\n      <td>6</td>\n      <td>1</td>\n      <td>0</td>\n      <td>3</td>\n      <td>, музыка, видеоигры</td>\n      <td>продукт аналитик</td>\n      <td>делал интересные и долгосрочные проекты</td>\n      <td>0.75</td>\n      <td>4</td>\n      <td>0</td>\n      <td>люблю качаться в зале, изучать психологию</td>\n    </tr>\n    <tr>\n      <th>4</th>\n      <td>8</td>\n      <td>1</td>\n      <td>0</td>\n      <td>3</td>\n      <td>, музыка, игра на музыкальных инструментах</td>\n      <td>&lt;NA&gt;</td>\n      <td>&lt;NA&gt;</td>\n      <td>0.75</td>\n      <td>0</td>\n      <td>0</td>\n      <td>&lt;NA&gt;</td>\n    </tr>\n    <tr>\n      <th>5</th>\n      <td>7</td>\n      <td>1</td>\n      <td>0</td>\n      <td>0</td>\n      <td>, видеоигры, кино и сериалы, книги</td>\n      <td>data scientist в сбере</td>\n      <td>не знаю не знаю не знаю</td>\n      <td>0.50</td>\n      <td>4</td>\n      <td>0</td>\n      <td>из видеоигр люблю сюжетные рпг и различные сим...</td>\n    </tr>\n    <tr>\n      <th>6</th>\n      <td>18</td>\n      <td>1</td>\n      <td>0</td>\n      <td>2</td>\n      <td>, музыка, игра на музыкальных инструментах, ви...</td>\n      <td>студент питерской вышки</td>\n      <td>не состоял, ничего не ожидаю :р</td>\n      <td>0.75</td>\n      <td>0</td>\n      <td>0</td>\n      <td>я вообще ничего не делаю. занимаю ничегонедела...</td>\n    </tr>\n    <tr>\n      <th>7</th>\n      <td>9</td>\n      <td>0</td>\n      <td>0</td>\n      <td>1</td>\n      <td>, путешествия, книги, игра на музыкальных инст...</td>\n      <td>data science в банке</td>\n      <td>с людьми по интересам общаться, что-то новое у...</td>\n      <td>0.50</td>\n      <td>3</td>\n      <td>1</td>\n      <td>люблю ходить по музеям и изучать искусство. лю...</td>\n    </tr>\n    <tr>\n      <th>8</th>\n      <td>12</td>\n      <td>2</td>\n      <td>0</td>\n      <td>1</td>\n      <td>, игра на музыкальных инструментах, техника и ...</td>\n      <td>&lt;NA&gt;</td>\n      <td>&lt;NA&gt;</td>\n      <td>0.50</td>\n      <td>7</td>\n      <td>0</td>\n      <td>&lt;NA&gt;</td>\n    </tr>\n    <tr>\n      <th>9</th>\n      <td>11</td>\n      <td>1</td>\n      <td>0</td>\n      <td>8</td>\n      <td>, музыка, игра на музыкальных инструментах, кн...</td>\n      <td>ml-стажер в небольшой компании, занимаюсь эксп...</td>\n      <td>побаловаться поприкалываться пообщаться с людь...</td>\n      <td>0.50</td>\n      <td>10</td>\n      <td>1</td>\n      <td>описываю намного подробней</td>\n    </tr>\n  </tbody>\n</table>\n</div>"
     },
     "execution_count": 73,
     "metadata": {},
     "output_type": "execute_result"
    }
   ],
   "source": [
    "df.head(10)"
   ],
   "metadata": {
    "collapsed": false,
    "ExecuteTime": {
     "end_time": "2024-05-19T08:53:44.798522Z",
     "start_time": "2024-05-19T08:53:44.762074Z"
    }
   },
   "id": "3bc686d1bf50d871",
   "execution_count": 73
  },
  {
   "cell_type": "code",
   "outputs": [
    {
     "data": {
      "text/plain": "id                                  0\nchoosing_readiness_new_meetings     0\nchoosing_meeting_format             0\nchoosing_personality_type           0\nchoosing_hobbies                    0\ntell_what_do_you_do                89\ntell_expectations                  89\nchoosing_expectations               0\nchoosing_zodiac_signs               0\nchoosing_gender                     0\ntell_hobbies                       89\ndtype: int64"
     },
     "execution_count": 74,
     "metadata": {},
     "output_type": "execute_result"
    }
   ],
   "source": [
    "df.isna().sum()"
   ],
   "metadata": {
    "collapsed": false,
    "ExecuteTime": {
     "end_time": "2024-05-19T08:53:44.864758Z",
     "start_time": "2024-05-19T08:53:44.777700Z"
    }
   },
   "id": "84cdc9dde4edfc0e",
   "execution_count": 74
  },
  {
   "cell_type": "code",
   "outputs": [],
   "source": [
    "df_encoded = pd.get_dummies(df[categorical_columns], columns=categorical_columns)"
   ],
   "metadata": {
    "collapsed": false,
    "ExecuteTime": {
     "end_time": "2024-05-19T08:53:44.903613Z",
     "start_time": "2024-05-19T08:53:44.802634Z"
    }
   },
   "id": "e7602e7db6c8fc34",
   "execution_count": 75
  },
  {
   "cell_type": "code",
   "outputs": [],
   "source": [
    "morph = pymorphy2.MorphAnalyzer()\n",
    "def lemmatize_text(text):\n",
    "    return ' '.join([morph.parse(word)[0].normal_form for word in text.split()])\n",
    "\n",
    "for col in text_tell_columns:\n",
    "    df[col] = df[col].fillna('').apply(lemmatize_text)"
   ],
   "metadata": {
    "collapsed": false,
    "ExecuteTime": {
     "end_time": "2024-05-19T08:53:47.325048Z",
     "start_time": "2024-05-19T08:53:44.812820Z"
    }
   },
   "id": "bf13dcdb7f822ea6",
   "execution_count": 76
  },
  {
   "cell_type": "code",
   "outputs": [],
   "source": [
    "tfidf_vectorizer = TfidfVectorizer()\n",
    "tfidf_matrices = [tfidf_vectorizer.fit_transform(df[col]) for col in text_tell_columns]\n",
    "\n",
    "tfidf_hobbies = TfidfVectorizer()\n",
    "tfidf_hobbies_matrix = tfidf_hobbies.fit_transform(df['choosing_hobbies'])"
   ],
   "metadata": {
    "collapsed": false,
    "ExecuteTime": {
     "end_time": "2024-05-19T08:53:47.419891Z",
     "start_time": "2024-05-19T08:53:47.346576Z"
    }
   },
   "id": "1eee9f8f80f030b3",
   "execution_count": 77
  },
  {
   "cell_type": "code",
   "outputs": [],
   "source": [
    "combined_tfidf_matrix = hstack(tfidf_matrices + [tfidf_hobbies_matrix])\n",
    "final_matrix = hstack([df_encoded, combined_tfidf_matrix])\n",
    "\n",
    "final_df = pd.DataFrame.sparse.from_spmatrix(final_matrix)"
   ],
   "metadata": {
    "collapsed": false,
    "ExecuteTime": {
     "end_time": "2024-05-19T08:54:16.231115Z",
     "start_time": "2024-05-19T08:54:16.178792Z"
    }
   },
   "id": "2460d2729689323c",
   "execution_count": 82
  },
  {
   "cell_type": "code",
   "outputs": [
    {
     "data": {
      "text/plain": "    id  choosing_readiness_new_meetings  choosing_meeting_format  \\\n0    2                                0                        0   \n1    4                                0                        0   \n2    5                                0                        0   \n3    6                                1                        0   \n4    8                                1                        0   \n5    7                                1                        0   \n6   18                                1                        0   \n7    9                                0                        0   \n8   12                                2                        0   \n9   11                                1                        0   \n10  13                                1                        0   \n11  14                                0                        0   \n12  16                                0                        0   \n13  23                                0                        0   \n14  19                                0                        0   \n15  26                                1                        0   \n16  25                                1                        0   \n17  17                                1                        0   \n18  56                                1                        0   \n19  27                                0                        0   \n\n    choosing_personality_type  \\\n0                           0   \n1                           3   \n2                           0   \n3                           3   \n4                           3   \n5                           0   \n6                           2   \n7                           1   \n8                           1   \n9                           8   \n10                          0   \n11                          6   \n12                          0   \n13                         15   \n14                         15   \n15                          6   \n16                          6   \n17                          3   \n18                          1   \n19                          0   \n\n                                     choosing_hobbies  \\\n0            , ведение соцсетей и блогов, путешествия   \n1                              , техника и автомобили   \n2                         , ведение соцсетей и блогов   \n3                                 , музыка, видеоигры   \n4          , музыка, игра на музыкальных инструментах   \n5                  , видеоигры, кино и сериалы, книги   \n6   , музыка, игра на музыкальных инструментах, ви...   \n7   , путешествия, книги, игра на музыкальных инст...   \n8   , игра на музыкальных инструментах, техника и ...   \n9   , музыка, игра на музыкальных инструментах, кн...   \n10  , музыка, путешествия, видеоигры, коллекционир...   \n11                           , музыка, кино и сериалы   \n12                           , путешествия, видеоигры   \n13                               , коллекционирование   \n14  , ведение соцсетей и блогов, музыка, книги, иг...   \n15  , путешествия, музыка, книги, кино и сериалы, ...   \n16  , музыка, путешествия, книги, кино и сериалы, ...   \n17  , кино и сериалы, музыка, игра на музыкальных ...   \n18  , путешествия, музыка, игра на музыкальных инс...   \n19  , музыка, путешествия, кино и сериалы, видеоиг...   \n\n                                  tell_what_do_you_do  \\\n0                покшуть п лулатутатат алалатетатпать   \n1                                                       \n2                                                       \n3                                    продукт аналитик   \n4                                                       \n5                               data scientist в сбер   \n6                             студент питерский вышка   \n7                                 data science в банк   \n8                                                       \n9   ml-стажёр в небольшой компании, заниматься экс...   \n10                                                      \n11                         сплю,кушаю,смотреть сериал   \n12                            data science, аналитика   \n13                                                      \n14                                                      \n15                              учиться в медицинский   \n16  мой мнение меняться слишком часто, чтобы говор...   \n17                             не хотеть рассказывать   \n18                                                      \n19                             учиться на программист   \n\n                                    tell_expectations  choosing_expectations  \\\n0   владалалалвтта душуовтататат шаовоаокоаоа шаоа...                   1.00   \n1                                                                       0.50   \n2                                                                       1.00   \n3             делать интересный и долгосрочный проект                   0.75   \n4                                                                       0.75   \n5                          не знать не знать не знать                   0.50   \n6                    не состоял, ничего не ожидать :р                   0.75   \n7   с человек по интерес общаться, что-то новый уз...                   0.50   \n8                                                                       0.50   \n9   побаловаться поприкалываться пообщаться с чело...                   0.50   \n10                                                                      0.75   \n11  хсё большое,ть думаю,здесить много приятный лю...                   0.75   \n12                                 общение по интерес                   0.75   \n13                                                                      1.00   \n14                                                                      0.75   \n15                          общение, новый знакомство                   0.75   \n16                          общение, новый знакомство                   0.75   \n17                           я нечего с вы поделиться                   0.25   \n18                                                                      0.50   \n19                               да ничего не ожидать                   0.75   \n\n    choosing_zodiac_signs  choosing_gender  \\\n0                       0                0   \n1                       4                1   \n2                       0                0   \n3                       4                0   \n4                       0                0   \n5                       4                0   \n6                       0                0   \n7                       3                1   \n8                       7                0   \n9                      10                1   \n10                      4                0   \n11                      8                1   \n12                     10                1   \n13                      7                1   \n14                      4                1   \n15                      7                1   \n16                      2                1   \n17                      5                1   \n18                      1                0   \n19                      4                0   \n\n                                         tell_hobbies  cluster  \n0                  алкласть лалулуиатат далутутададть        3  \n1                                                            2  \n2                                                            3  \n3          любить качаться в зале, изучать психология        2  \n4                                                            2  \n5   из видеоигра любить сюжетный рпг и различный с...        3  \n6   я вообще ничего не делаю. занимать ничегонедел...        2  \n7   любить ходить по музей и изучать искусство. лю...        2  \n8                                                            2  \n9                         описывать намного подробный        4  \n10                                                           3  \n11  взгляд широкие, интерес глубокие,ич хобби врем...        2  \n12                        описывать намного подробный        3  \n13                                                           2  \n14                                                           4  \n15  тоже сюда поинт про спорт, заряжать энергия очень        4  \n16  добавить сюда бы ещё поинт про спорт: трениров...        2  \n17                              извините, я не хотеть        4  \n18                                                           2  \n19  любить ходить на концерт любимый группа и испо...        3  ",
      "text/html": "<div>\n<style scoped>\n    .dataframe tbody tr th:only-of-type {\n        vertical-align: middle;\n    }\n\n    .dataframe tbody tr th {\n        vertical-align: top;\n    }\n\n    .dataframe thead th {\n        text-align: right;\n    }\n</style>\n<table border=\"1\" class=\"dataframe\">\n  <thead>\n    <tr style=\"text-align: right;\">\n      <th></th>\n      <th>id</th>\n      <th>choosing_readiness_new_meetings</th>\n      <th>choosing_meeting_format</th>\n      <th>choosing_personality_type</th>\n      <th>choosing_hobbies</th>\n      <th>tell_what_do_you_do</th>\n      <th>tell_expectations</th>\n      <th>choosing_expectations</th>\n      <th>choosing_zodiac_signs</th>\n      <th>choosing_gender</th>\n      <th>tell_hobbies</th>\n      <th>cluster</th>\n    </tr>\n  </thead>\n  <tbody>\n    <tr>\n      <th>0</th>\n      <td>2</td>\n      <td>0</td>\n      <td>0</td>\n      <td>0</td>\n      <td>, ведение соцсетей и блогов, путешествия</td>\n      <td>покшуть п лулатутатат алалатетатпать</td>\n      <td>владалалалвтта душуовтататат шаовоаокоаоа шаоа...</td>\n      <td>1.00</td>\n      <td>0</td>\n      <td>0</td>\n      <td>алкласть лалулуиатат далутутададть</td>\n      <td>3</td>\n    </tr>\n    <tr>\n      <th>1</th>\n      <td>4</td>\n      <td>0</td>\n      <td>0</td>\n      <td>3</td>\n      <td>, техника и автомобили</td>\n      <td></td>\n      <td></td>\n      <td>0.50</td>\n      <td>4</td>\n      <td>1</td>\n      <td></td>\n      <td>2</td>\n    </tr>\n    <tr>\n      <th>2</th>\n      <td>5</td>\n      <td>0</td>\n      <td>0</td>\n      <td>0</td>\n      <td>, ведение соцсетей и блогов</td>\n      <td></td>\n      <td></td>\n      <td>1.00</td>\n      <td>0</td>\n      <td>0</td>\n      <td></td>\n      <td>3</td>\n    </tr>\n    <tr>\n      <th>3</th>\n      <td>6</td>\n      <td>1</td>\n      <td>0</td>\n      <td>3</td>\n      <td>, музыка, видеоигры</td>\n      <td>продукт аналитик</td>\n      <td>делать интересный и долгосрочный проект</td>\n      <td>0.75</td>\n      <td>4</td>\n      <td>0</td>\n      <td>любить качаться в зале, изучать психология</td>\n      <td>2</td>\n    </tr>\n    <tr>\n      <th>4</th>\n      <td>8</td>\n      <td>1</td>\n      <td>0</td>\n      <td>3</td>\n      <td>, музыка, игра на музыкальных инструментах</td>\n      <td></td>\n      <td></td>\n      <td>0.75</td>\n      <td>0</td>\n      <td>0</td>\n      <td></td>\n      <td>2</td>\n    </tr>\n    <tr>\n      <th>5</th>\n      <td>7</td>\n      <td>1</td>\n      <td>0</td>\n      <td>0</td>\n      <td>, видеоигры, кино и сериалы, книги</td>\n      <td>data scientist в сбер</td>\n      <td>не знать не знать не знать</td>\n      <td>0.50</td>\n      <td>4</td>\n      <td>0</td>\n      <td>из видеоигра любить сюжетный рпг и различный с...</td>\n      <td>3</td>\n    </tr>\n    <tr>\n      <th>6</th>\n      <td>18</td>\n      <td>1</td>\n      <td>0</td>\n      <td>2</td>\n      <td>, музыка, игра на музыкальных инструментах, ви...</td>\n      <td>студент питерский вышка</td>\n      <td>не состоял, ничего не ожидать :р</td>\n      <td>0.75</td>\n      <td>0</td>\n      <td>0</td>\n      <td>я вообще ничего не делаю. занимать ничегонедел...</td>\n      <td>2</td>\n    </tr>\n    <tr>\n      <th>7</th>\n      <td>9</td>\n      <td>0</td>\n      <td>0</td>\n      <td>1</td>\n      <td>, путешествия, книги, игра на музыкальных инст...</td>\n      <td>data science в банк</td>\n      <td>с человек по интерес общаться, что-то новый уз...</td>\n      <td>0.50</td>\n      <td>3</td>\n      <td>1</td>\n      <td>любить ходить по музей и изучать искусство. лю...</td>\n      <td>2</td>\n    </tr>\n    <tr>\n      <th>8</th>\n      <td>12</td>\n      <td>2</td>\n      <td>0</td>\n      <td>1</td>\n      <td>, игра на музыкальных инструментах, техника и ...</td>\n      <td></td>\n      <td></td>\n      <td>0.50</td>\n      <td>7</td>\n      <td>0</td>\n      <td></td>\n      <td>2</td>\n    </tr>\n    <tr>\n      <th>9</th>\n      <td>11</td>\n      <td>1</td>\n      <td>0</td>\n      <td>8</td>\n      <td>, музыка, игра на музыкальных инструментах, кн...</td>\n      <td>ml-стажёр в небольшой компании, заниматься экс...</td>\n      <td>побаловаться поприкалываться пообщаться с чело...</td>\n      <td>0.50</td>\n      <td>10</td>\n      <td>1</td>\n      <td>описывать намного подробный</td>\n      <td>4</td>\n    </tr>\n    <tr>\n      <th>10</th>\n      <td>13</td>\n      <td>1</td>\n      <td>0</td>\n      <td>0</td>\n      <td>, музыка, путешествия, видеоигры, коллекционир...</td>\n      <td></td>\n      <td></td>\n      <td>0.75</td>\n      <td>4</td>\n      <td>0</td>\n      <td></td>\n      <td>3</td>\n    </tr>\n    <tr>\n      <th>11</th>\n      <td>14</td>\n      <td>0</td>\n      <td>0</td>\n      <td>6</td>\n      <td>, музыка, кино и сериалы</td>\n      <td>сплю,кушаю,смотреть сериал</td>\n      <td>хсё большое,ть думаю,здесить много приятный лю...</td>\n      <td>0.75</td>\n      <td>8</td>\n      <td>1</td>\n      <td>взгляд широкие, интерес глубокие,ич хобби врем...</td>\n      <td>2</td>\n    </tr>\n    <tr>\n      <th>12</th>\n      <td>16</td>\n      <td>0</td>\n      <td>0</td>\n      <td>0</td>\n      <td>, путешествия, видеоигры</td>\n      <td>data science, аналитика</td>\n      <td>общение по интерес</td>\n      <td>0.75</td>\n      <td>10</td>\n      <td>1</td>\n      <td>описывать намного подробный</td>\n      <td>3</td>\n    </tr>\n    <tr>\n      <th>13</th>\n      <td>23</td>\n      <td>0</td>\n      <td>0</td>\n      <td>15</td>\n      <td>, коллекционирование</td>\n      <td></td>\n      <td></td>\n      <td>1.00</td>\n      <td>7</td>\n      <td>1</td>\n      <td></td>\n      <td>2</td>\n    </tr>\n    <tr>\n      <th>14</th>\n      <td>19</td>\n      <td>0</td>\n      <td>0</td>\n      <td>15</td>\n      <td>, ведение соцсетей и блогов, музыка, книги, иг...</td>\n      <td></td>\n      <td></td>\n      <td>0.75</td>\n      <td>4</td>\n      <td>1</td>\n      <td></td>\n      <td>4</td>\n    </tr>\n    <tr>\n      <th>15</th>\n      <td>26</td>\n      <td>1</td>\n      <td>0</td>\n      <td>6</td>\n      <td>, путешествия, музыка, книги, кино и сериалы, ...</td>\n      <td>учиться в медицинский</td>\n      <td>общение, новый знакомство</td>\n      <td>0.75</td>\n      <td>7</td>\n      <td>1</td>\n      <td>тоже сюда поинт про спорт, заряжать энергия очень</td>\n      <td>4</td>\n    </tr>\n    <tr>\n      <th>16</th>\n      <td>25</td>\n      <td>1</td>\n      <td>0</td>\n      <td>6</td>\n      <td>, музыка, путешествия, книги, кино и сериалы, ...</td>\n      <td>мой мнение меняться слишком часто, чтобы говор...</td>\n      <td>общение, новый знакомство</td>\n      <td>0.75</td>\n      <td>2</td>\n      <td>1</td>\n      <td>добавить сюда бы ещё поинт про спорт: трениров...</td>\n      <td>2</td>\n    </tr>\n    <tr>\n      <th>17</th>\n      <td>17</td>\n      <td>1</td>\n      <td>0</td>\n      <td>3</td>\n      <td>, кино и сериалы, музыка, игра на музыкальных ...</td>\n      <td>не хотеть рассказывать</td>\n      <td>я нечего с вы поделиться</td>\n      <td>0.25</td>\n      <td>5</td>\n      <td>1</td>\n      <td>извините, я не хотеть</td>\n      <td>4</td>\n    </tr>\n    <tr>\n      <th>18</th>\n      <td>56</td>\n      <td>1</td>\n      <td>0</td>\n      <td>1</td>\n      <td>, путешествия, музыка, игра на музыкальных инс...</td>\n      <td></td>\n      <td></td>\n      <td>0.50</td>\n      <td>1</td>\n      <td>0</td>\n      <td></td>\n      <td>2</td>\n    </tr>\n    <tr>\n      <th>19</th>\n      <td>27</td>\n      <td>0</td>\n      <td>0</td>\n      <td>0</td>\n      <td>, музыка, путешествия, кино и сериалы, видеоиг...</td>\n      <td>учиться на программист</td>\n      <td>да ничего не ожидать</td>\n      <td>0.75</td>\n      <td>4</td>\n      <td>0</td>\n      <td>любить ходить на концерт любимый группа и испо...</td>\n      <td>3</td>\n    </tr>\n  </tbody>\n</table>\n</div>"
     },
     "execution_count": 81,
     "metadata": {},
     "output_type": "execute_result"
    }
   ],
   "source": [
    "from sklearn.cluster import KMeans\n",
    "\n",
    "kmeans = KMeans(n_clusters=5, random_state=42)\n",
    "clusters = kmeans.fit_predict(final_df)\n",
    "\n",
    "df['cluster'] = clusters\n",
    "df.head(20)"
   ],
   "metadata": {
    "collapsed": false,
    "ExecuteTime": {
     "end_time": "2024-05-19T08:53:47.883765Z",
     "start_time": "2024-05-19T08:53:47.590602Z"
    }
   },
   "id": "bbba4f4a6f33422b",
   "execution_count": 81
  },
  {
   "cell_type": "code",
   "outputs": [],
   "source": [],
   "metadata": {
    "collapsed": false,
    "ExecuteTime": {
     "end_time": "2024-05-19T08:53:47.884988Z",
     "start_time": "2024-05-19T08:53:47.783725Z"
    }
   },
   "id": "e878f243d2b6b8de",
   "execution_count": 81
  }
 ],
 "metadata": {
  "kernelspec": {
   "display_name": "Python 3",
   "language": "python",
   "name": "python3"
  },
  "language_info": {
   "codemirror_mode": {
    "name": "ipython",
    "version": 2
   },
   "file_extension": ".py",
   "mimetype": "text/x-python",
   "name": "python",
   "nbconvert_exporter": "python",
   "pygments_lexer": "ipython2",
   "version": "2.7.6"
  }
 },
 "nbformat": 4,
 "nbformat_minor": 5
}

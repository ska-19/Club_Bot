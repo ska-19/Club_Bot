{
 "cells": [
  {
   "cell_type": "markdown",
   "source": [
    "# Первый блокнот"
   ],
   "metadata": {
    "collapsed": false
   },
   "id": "d6fc51cebaef3bcf"
  },
  {
   "cell_type": "code",
   "execution_count": 29,
   "outputs": [
    {
     "name": "stdout",
     "output_type": "stream",
     "text": [
      "1\n"
     ]
    }
   ],
   "source": [
    "print(1)"
   ],
   "metadata": {
    "collapsed": false,
    "ExecuteTime": {
     "end_time": "2024-05-01T15:10:08.375463Z",
     "start_time": "2024-05-01T15:10:08.312071Z"
    }
   },
   "id": "d7d05fabadcfbd72"
  },
  {
   "cell_type": "code",
   "execution_count": 30,
   "outputs": [],
   "source": [
    "import pandas as pd\n",
    "import seaborn as sns\n",
    "import numpy as np\n",
    "from math import isclose\n",
    "import matplotlib.pyplot as plt"
   ],
   "metadata": {
    "collapsed": false,
    "ExecuteTime": {
     "end_time": "2024-05-01T15:10:08.390729Z",
     "start_time": "2024-05-01T15:10:08.329868Z"
    }
   },
   "id": "3e23b382bf97ab80"
  },
  {
   "cell_type": "code",
   "outputs": [
    {
     "data": {
      "text/plain": "    choosing_readiness_new_meetings  choosing_meeting_format  \\\nid                                                             \n2                                 0                        0   \n3                                 1                        0   \n4                                 0                        0   \n5                                 0                        0   \n6                                 1                        0   \n\n    choosing_personality_type                          choosing_hobbies  \\\nid                                                                        \n2                           0  , ведение соцсетей и блогов, путешествия   \n3                           3                                   , книги   \n4                           3                    , техника и автомобили   \n5                           0               , ведение соцсетей и блогов   \n6                           3                       , музыка, видеоигры   \n\n                            tell_what_do_you_do  \\\nid                                                \n2            покшула п лулатутатат алалатетатпь   \n3                                      йййййййй   \n4                        цццццццццццццццццццццц   \n5   мрукмтукру к8урк укмт ук8у мтцу мрукзщмо ум   \n6                              продукт аналитик   \n\n                                    tell_expectations  \\\nid                                                      \n2   владалалалвтту душуовтататат шаовоаокоаоа шаоа...   \n3                                           ййййййййй   \n4                            цццццццццццццццццццццццц   \n5                  мулкомр укгмр укр зкумр гуркм у км   \n6             делал интересные и долгосрочные проекты   \n\n    choosing_knew_interest_clubs  choosing_expectations  \\\nid                                                        \n2                              0                      0   \n3                              0                      3   \n4                              0                      2   \n5                              0                      0   \n6                              2                      1   \n\n    choosing_zodiac_signs  choosing_gender  \\\nid                                           \n2                       0                0   \n3                       4                2   \n4                       4                1   \n5                       0                0   \n6                       4                0   \n\n                                       tell_hobbies  \nid                                                   \n2                  алклал лалулуиатату далутутададв  \n3                                          йййййййй  \n4                          уццццццццццццццццццццццц  \n5   алтуйшкмумтумк кшмтук м1куругмр укмрукмо умтцут  \n6         люблю качаться в зале, изучать психологию  ",
      "text/html": "<div>\n<style scoped>\n    .dataframe tbody tr th:only-of-type {\n        vertical-align: middle;\n    }\n\n    .dataframe tbody tr th {\n        vertical-align: top;\n    }\n\n    .dataframe thead th {\n        text-align: right;\n    }\n</style>\n<table border=\"1\" class=\"dataframe\">\n  <thead>\n    <tr style=\"text-align: right;\">\n      <th></th>\n      <th>choosing_readiness_new_meetings</th>\n      <th>choosing_meeting_format</th>\n      <th>choosing_personality_type</th>\n      <th>choosing_hobbies</th>\n      <th>tell_what_do_you_do</th>\n      <th>tell_expectations</th>\n      <th>choosing_knew_interest_clubs</th>\n      <th>choosing_expectations</th>\n      <th>choosing_zodiac_signs</th>\n      <th>choosing_gender</th>\n      <th>tell_hobbies</th>\n    </tr>\n    <tr>\n      <th>id</th>\n      <th></th>\n      <th></th>\n      <th></th>\n      <th></th>\n      <th></th>\n      <th></th>\n      <th></th>\n      <th></th>\n      <th></th>\n      <th></th>\n      <th></th>\n    </tr>\n  </thead>\n  <tbody>\n    <tr>\n      <th>2</th>\n      <td>0</td>\n      <td>0</td>\n      <td>0</td>\n      <td>, ведение соцсетей и блогов, путешествия</td>\n      <td>покшула п лулатутатат алалатетатпь</td>\n      <td>владалалалвтту душуовтататат шаовоаокоаоа шаоа...</td>\n      <td>0</td>\n      <td>0</td>\n      <td>0</td>\n      <td>0</td>\n      <td>алклал лалулуиатату далутутададв</td>\n    </tr>\n    <tr>\n      <th>3</th>\n      <td>1</td>\n      <td>0</td>\n      <td>3</td>\n      <td>, книги</td>\n      <td>йййййййй</td>\n      <td>ййййййййй</td>\n      <td>0</td>\n      <td>3</td>\n      <td>4</td>\n      <td>2</td>\n      <td>йййййййй</td>\n    </tr>\n    <tr>\n      <th>4</th>\n      <td>0</td>\n      <td>0</td>\n      <td>3</td>\n      <td>, техника и автомобили</td>\n      <td>цццццццццццццццццццццц</td>\n      <td>цццццццццццццццццццццццц</td>\n      <td>0</td>\n      <td>2</td>\n      <td>4</td>\n      <td>1</td>\n      <td>уццццццццццццццццццццццц</td>\n    </tr>\n    <tr>\n      <th>5</th>\n      <td>0</td>\n      <td>0</td>\n      <td>0</td>\n      <td>, ведение соцсетей и блогов</td>\n      <td>мрукмтукру к8урк укмт ук8у мтцу мрукзщмо ум</td>\n      <td>мулкомр укгмр укр зкумр гуркм у км</td>\n      <td>0</td>\n      <td>0</td>\n      <td>0</td>\n      <td>0</td>\n      <td>алтуйшкмумтумк кшмтук м1куругмр укмрукмо умтцут</td>\n    </tr>\n    <tr>\n      <th>6</th>\n      <td>1</td>\n      <td>0</td>\n      <td>3</td>\n      <td>, музыка, видеоигры</td>\n      <td>продукт аналитик</td>\n      <td>делал интересные и долгосрочные проекты</td>\n      <td>2</td>\n      <td>1</td>\n      <td>4</td>\n      <td>0</td>\n      <td>люблю качаться в зале, изучать психологию</td>\n    </tr>\n  </tbody>\n</table>\n</div>"
     },
     "execution_count": 31,
     "metadata": {},
     "output_type": "execute_result"
    }
   ],
   "source": [
    "df = pd.read_csv('data (57).csv')\n",
    "df.drop(['_sa_instance_state', 'tg_id', 'choosing_stay_in_touch','questionnaire_counter'], axis=1, inplace=True)\n",
    "df.set_index('id', inplace=True)\n",
    "\n",
    "df.head()"
   ],
   "metadata": {
    "collapsed": false,
    "ExecuteTime": {
     "end_time": "2024-05-01T15:10:08.415032Z",
     "start_time": "2024-05-01T15:10:08.345195Z"
    }
   },
   "id": "e98c20f0b1965623",
   "execution_count": 31
  },
  {
   "cell_type": "code",
   "outputs": [
    {
     "data": {
      "text/plain": "(114, 11)"
     },
     "execution_count": 32,
     "metadata": {},
     "output_type": "execute_result"
    }
   ],
   "source": [
    "df.shape"
   ],
   "metadata": {
    "collapsed": false,
    "ExecuteTime": {
     "end_time": "2024-05-01T15:10:08.418321Z",
     "start_time": "2024-05-01T15:10:08.400968Z"
    }
   },
   "id": "7370cf4e69b04d1a",
   "execution_count": 32
  },
  {
   "cell_type": "code",
   "outputs": [
    {
     "data": {
      "text/plain": "Index(['choosing_readiness_new_meetings', 'choosing_meeting_format',\n       'choosing_personality_type', 'choosing_hobbies', 'tell_what_do_you_do',\n       'tell_expectations', 'choosing_knew_interest_clubs',\n       'choosing_expectations', 'choosing_zodiac_signs', 'choosing_gender',\n       'tell_hobbies'],\n      dtype='object')"
     },
     "execution_count": 33,
     "metadata": {},
     "output_type": "execute_result"
    }
   ],
   "source": [
    "df.columns"
   ],
   "metadata": {
    "collapsed": false,
    "ExecuteTime": {
     "end_time": "2024-05-01T15:10:08.485320Z",
     "start_time": "2024-05-01T15:10:08.431703Z"
    }
   },
   "id": "ed2a46fec9503a1f",
   "execution_count": 33
  },
  {
   "cell_type": "markdown",
   "source": [
    "['choosing_readiness_new_meetings', 'choosing_meeting_format',\n",
    "       'choosing_personality_type', 'choosing_hobbies', 'tell_what_do_you_do',\n",
    "       'tell_expectations', 'choosing_knew_interest_clubs',\n",
    "       'choosing_expectations', 'choosing_zodiac_signs', 'choosing_gender',\n",
    "       'tell_hobbies']"
   ],
   "metadata": {
    "collapsed": false
   },
   "id": "e9e8c10476891b14"
  },
  {
   "cell_type": "code",
   "outputs": [],
   "source": [
    "text_choosing_columns = ['choosing_readiness_new_meetings', 'choosing_meeting_format', 'choosing_personality_type', 'choosing_knew_interest_clubs', 'choosing_expectations', 'choosing_zodiac_signs', 'choosing_gender']\n",
    "text_multi_choosing_columns = ['choosing_hobbies']\n",
    "text_tell_columns = ['tell_what_do_you_do', 'tell_expectations', 'tell_hobbies']"
   ],
   "metadata": {
    "collapsed": false,
    "ExecuteTime": {
     "end_time": "2024-05-01T15:10:08.524453Z",
     "start_time": "2024-05-01T15:10:08.452374Z"
    }
   },
   "id": "928d89c967210c1f",
   "execution_count": 34
  },
  {
   "cell_type": "markdown",
   "source": [
    "### text_choosing_columns\n",
    "```python\n",
    "available_knew_interest_clubs = [\"Никогда не слышал\", \"Слышал, но не состоял\", \"Состоял/Состою\"]\n",
    "available_readiness_new_meetings = [\"Да!\", \"Зависит от настроения\", \"Не люблю знакомиться с новыми людьми\"]\n",
    "available_expectations = [\"100% фана\", \"75% фана, немного серьезности\", \"50% фана, 50% серьезности\",\n",
    "                          \"25% фана, 75% серьезности\", \"0% фана, только деловые беседы\"]\n",
    "available_meeting_format = [\"Готов вживую\", \"Только онлайн\"]\n",
    "available_zodiac_signs = [\"Овен\", \"Телец\", \"Близнецы\", \"Рак\", \"Лев\", \"Дева\", \"Весы\", \"Скорпион\", \"Стрелец\",\n",
    "                          \"Козерог\", \"Водолей\", \"Рыбы\"]\n",
    "available_personality_type = [\"Стратег\", \"Учёный\", \"Командир\", \"Полемист\",\n",
    "                              \"Активист\", \"Посредник\", \"Тренер\", \"Борец\",\n",
    "                              \"Администратор\", \"Защитник\", \"Менеджер\", \"Консул\",\n",
    "                              \"Виртуоз\", \"Артист\", \"Делец\", \"Развлекатель\"]\n",
    "available_gender = [\"Мужской\", \"Женский\", \"Пропустить\"]\n",
    "```\n",
    "### text_multi_choosing_columns\n",
    "```python\n",
    "available_hobbies = [\"Ведение соцсетей и блогов\", \"Путешествия\", \"Музыка\", \"Книги\", \"Кино и сериалы\", \"Видеоигры\",\n",
    "                     \"Игра на музыкальных инструментах\", \"Кулинария\", \"Искусство и рукоделие\", \"Коллекционирование\",\n",
    "                     \"Техника и автомобили\"]\n",
    "```"
   ],
   "metadata": {
    "collapsed": false
   },
   "id": "51581192259d93bd"
  },
  {
   "cell_type": "code",
   "outputs": [
    {
     "name": "stdout",
     "output_type": "stream",
     "text": [
      "<class 'pandas.core.frame.DataFrame'>\n",
      "Index: 114 entries, 2 to 114\n",
      "Data columns (total 11 columns):\n",
      " #   Column                           Non-Null Count  Dtype \n",
      "---  ------                           --------------  ----- \n",
      " 0   choosing_readiness_new_meetings  114 non-null    int64 \n",
      " 1   choosing_meeting_format          114 non-null    int64 \n",
      " 2   choosing_personality_type        114 non-null    int64 \n",
      " 3   choosing_hobbies                 99 non-null     object\n",
      " 4   tell_what_do_you_do              74 non-null     object\n",
      " 5   tell_expectations                74 non-null     object\n",
      " 6   choosing_knew_interest_clubs     114 non-null    int64 \n",
      " 7   choosing_expectations            114 non-null    int64 \n",
      " 8   choosing_zodiac_signs            114 non-null    int64 \n",
      " 9   choosing_gender                  114 non-null    int64 \n",
      " 10  tell_hobbies                     74 non-null     object\n",
      "dtypes: int64(7), object(4)\n",
      "memory usage: 10.7+ KB\n"
     ]
    }
   ],
   "source": [
    "df.info()"
   ],
   "metadata": {
    "collapsed": false,
    "ExecuteTime": {
     "end_time": "2024-05-01T15:10:08.755382Z",
     "start_time": "2024-05-01T15:10:08.508606Z"
    }
   },
   "id": "b99ca0d1e2fbf79a",
   "execution_count": 35
  },
  {
   "cell_type": "code",
   "outputs": [
    {
     "data": {
      "text/plain": "       choosing_readiness_new_meetings  choosing_meeting_format  \\\ncount                       114.000000               114.000000   \nmean                          0.394737                -0.122807   \nstd                           0.748076                 0.355497   \nmin                          -1.000000                -1.000000   \n25%                           0.000000                 0.000000   \n50%                           0.500000                 0.000000   \n75%                           1.000000                 0.000000   \nmax                           2.000000                 1.000000   \n\n       choosing_personality_type  choosing_knew_interest_clubs  \\\ncount                 114.000000                    114.000000   \nmean                    4.070175                      0.780702   \nstd                     4.623371                      0.859705   \nmin                    -1.000000                     -1.000000   \n25%                     0.000000                      1.000000   \n50%                     3.000000                      1.000000   \n75%                     7.000000                      1.000000   \nmax                    15.000000                      2.000000   \n\n       choosing_expectations  choosing_zodiac_signs  choosing_gender  \ncount             114.000000             114.000000       114.000000  \nmean                1.149123               4.192982         0.184211  \nstd                 1.206417               3.802368         0.659388  \nmin                -1.000000              -1.000000        -1.000000  \n25%                 0.250000               1.000000         0.000000  \n50%                 1.000000               4.000000         0.000000  \n75%                 2.000000               7.750000         1.000000  \nmax                 4.000000              11.000000         2.000000  ",
      "text/html": "<div>\n<style scoped>\n    .dataframe tbody tr th:only-of-type {\n        vertical-align: middle;\n    }\n\n    .dataframe tbody tr th {\n        vertical-align: top;\n    }\n\n    .dataframe thead th {\n        text-align: right;\n    }\n</style>\n<table border=\"1\" class=\"dataframe\">\n  <thead>\n    <tr style=\"text-align: right;\">\n      <th></th>\n      <th>choosing_readiness_new_meetings</th>\n      <th>choosing_meeting_format</th>\n      <th>choosing_personality_type</th>\n      <th>choosing_knew_interest_clubs</th>\n      <th>choosing_expectations</th>\n      <th>choosing_zodiac_signs</th>\n      <th>choosing_gender</th>\n    </tr>\n  </thead>\n  <tbody>\n    <tr>\n      <th>count</th>\n      <td>114.000000</td>\n      <td>114.000000</td>\n      <td>114.000000</td>\n      <td>114.000000</td>\n      <td>114.000000</td>\n      <td>114.000000</td>\n      <td>114.000000</td>\n    </tr>\n    <tr>\n      <th>mean</th>\n      <td>0.394737</td>\n      <td>-0.122807</td>\n      <td>4.070175</td>\n      <td>0.780702</td>\n      <td>1.149123</td>\n      <td>4.192982</td>\n      <td>0.184211</td>\n    </tr>\n    <tr>\n      <th>std</th>\n      <td>0.748076</td>\n      <td>0.355497</td>\n      <td>4.623371</td>\n      <td>0.859705</td>\n      <td>1.206417</td>\n      <td>3.802368</td>\n      <td>0.659388</td>\n    </tr>\n    <tr>\n      <th>min</th>\n      <td>-1.000000</td>\n      <td>-1.000000</td>\n      <td>-1.000000</td>\n      <td>-1.000000</td>\n      <td>-1.000000</td>\n      <td>-1.000000</td>\n      <td>-1.000000</td>\n    </tr>\n    <tr>\n      <th>25%</th>\n      <td>0.000000</td>\n      <td>0.000000</td>\n      <td>0.000000</td>\n      <td>1.000000</td>\n      <td>0.250000</td>\n      <td>1.000000</td>\n      <td>0.000000</td>\n    </tr>\n    <tr>\n      <th>50%</th>\n      <td>0.500000</td>\n      <td>0.000000</td>\n      <td>3.000000</td>\n      <td>1.000000</td>\n      <td>1.000000</td>\n      <td>4.000000</td>\n      <td>0.000000</td>\n    </tr>\n    <tr>\n      <th>75%</th>\n      <td>1.000000</td>\n      <td>0.000000</td>\n      <td>7.000000</td>\n      <td>1.000000</td>\n      <td>2.000000</td>\n      <td>7.750000</td>\n      <td>1.000000</td>\n    </tr>\n    <tr>\n      <th>max</th>\n      <td>2.000000</td>\n      <td>1.000000</td>\n      <td>15.000000</td>\n      <td>2.000000</td>\n      <td>4.000000</td>\n      <td>11.000000</td>\n      <td>2.000000</td>\n    </tr>\n  </tbody>\n</table>\n</div>"
     },
     "execution_count": 36,
     "metadata": {},
     "output_type": "execute_result"
    }
   ],
   "source": [
    "df.describe()"
   ],
   "metadata": {
    "collapsed": false,
    "ExecuteTime": {
     "end_time": "2024-05-01T15:10:08.824050Z",
     "start_time": "2024-05-01T15:10:08.603265Z"
    }
   },
   "id": "2929bed608db2ce4",
   "execution_count": 36
  },
  {
   "cell_type": "code",
   "outputs": [
    {
     "data": {
      "text/plain": "choosing_readiness_new_meetings     0\nchoosing_meeting_format             0\nchoosing_personality_type           0\nchoosing_hobbies                   15\ntell_what_do_you_do                40\ntell_expectations                  40\nchoosing_knew_interest_clubs        0\nchoosing_expectations               0\nchoosing_zodiac_signs               0\nchoosing_gender                     0\ntell_hobbies                       40\ndtype: int64"
     },
     "execution_count": 37,
     "metadata": {},
     "output_type": "execute_result"
    }
   ],
   "source": [
    "df.isna().sum()"
   ],
   "metadata": {
    "collapsed": false,
    "ExecuteTime": {
     "end_time": "2024-05-01T15:10:08.904026Z",
     "start_time": "2024-05-01T15:10:08.783071Z"
    }
   },
   "id": "a6a2f8d4d85320e1",
   "execution_count": 37
  }
 ],
 "metadata": {
  "kernelspec": {
   "display_name": "Python 3",
   "language": "python",
   "name": "python3"
  },
  "language_info": {
   "codemirror_mode": {
    "name": "ipython",
    "version": 2
   },
   "file_extension": ".py",
   "mimetype": "text/x-python",
   "name": "python",
   "nbconvert_exporter": "python",
   "pygments_lexer": "ipython2",
   "version": "2.7.6"
  }
 },
 "nbformat": 4,
 "nbformat_minor": 5
}
